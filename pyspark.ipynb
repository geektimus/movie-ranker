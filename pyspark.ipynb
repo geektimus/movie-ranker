{
 "cells": [
  {
   "cell_type": "markdown",
   "id": "277e5286-42fb-4835-8543-9c1ec72438f6",
   "metadata": {},
   "source": [
    "# Movie Ranker"
   ]
  },
  {
   "cell_type": "code",
   "execution_count": null,
   "id": "c3a3cc2d-304e-4009-bac1-1bee6501f9b1",
   "metadata": {},
   "outputs": [],
   "source": [
    "from pyspark.sql import SparkSession\n",
    "from pyspark.sql.functions import col\n",
    "\n",
    "spark = (SparkSession.builder\n",
    "    .master('local')\n",
    "    .appName('myAppName')\n",
    "    .getOrCreate())\n",
    "\n",
    "spark.sparkContext.setLogLevel(\"ERROR\")"
   ]
  },
  {
   "cell_type": "markdown",
   "id": "f4be1fb8-3f0c-4b86-afed-fca9d807020f",
   "metadata": {},
   "source": [
    "## Read the parquet file generated with pandas and omdb api"
   ]
  },
  {
   "cell_type": "code",
   "execution_count": null,
   "id": "3503e70b-00e1-421d-a5c5-810bf45bc9d0",
   "metadata": {},
   "outputs": [],
   "source": [
    "df = spark.read.parquet('data/movies.parquet.gzip')\n",
    "print(f'{df.count()} movies loaded')"
   ]
  },
  {
   "cell_type": "markdown",
   "id": "a37c877e-7c6a-45a1-b1fe-1490c7b99f4a",
   "metadata": {},
   "source": [
    "## filter the movies with a rating less than 6.0"
   ]
  },
  {
   "cell_type": "code",
   "execution_count": null,
   "id": "2e6175c4-275f-4a1c-bb6b-22a3c6542930",
   "metadata": {},
   "outputs": [],
   "source": [
    "bad_movies = df.filter(col('imdbrating') < 6.0)\n",
    "bad_movies_count = bad_movies.count()\n",
    "print(f'We have {bad_movies_count} movies with a ranking less than 6.0')"
   ]
  },
  {
   "cell_type": "code",
   "execution_count": null,
   "id": "ee691bcf-8537-4c8b-80f3-6639b863f31f",
   "metadata": {},
   "outputs": [],
   "source": [
    "bad_movies.sort(col('imdbrating').asc()).show(truncate=False)"
   ]
  },
  {
   "cell_type": "code",
   "execution_count": null,
   "id": "87809e17-5451-480b-ba3c-40de945eae5f",
   "metadata": {},
   "outputs": [],
   "source": [
    "unrated_movies = df.where(col('imdbrating') == 'N/A')\n",
    "print(f'We have {unrated_movies.count()} movies without ranking')"
   ]
  },
  {
   "cell_type": "code",
   "execution_count": null,
   "id": "aaa366fe-4294-4aa1-b031-56cc1fb658b0",
   "metadata": {},
   "outputs": [],
   "source": [
    "unrated_movies.show(truncate=False)"
   ]
  }
 ],
 "metadata": {
  "kernelspec": {
   "display_name": "Python 3.11.0 64-bit ('movie-ranker')",
   "language": "python",
   "name": "python3"
  },
  "language_info": {
   "codemirror_mode": {
    "name": "ipython",
    "version": 3
   },
   "file_extension": ".py",
   "mimetype": "text/x-python",
   "name": "python",
   "nbconvert_exporter": "python",
   "pygments_lexer": "ipython3",
   "version": "3.11.0"
  },
  "vscode": {
   "interpreter": {
    "hash": "abd078ae52b19f4c5f94421bfb3cddd9c943aaab5e50d7ad35dab317c28f703d"
   }
  }
 },
 "nbformat": 4,
 "nbformat_minor": 5
}
