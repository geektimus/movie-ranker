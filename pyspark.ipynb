{
 "cells": [
  {
   "cell_type": "markdown",
   "id": "277e5286-42fb-4835-8543-9c1ec72438f6",
   "metadata": {},
   "source": [
    "# Movie Ranker"
   ]
  },
  {
   "cell_type": "code",
   "execution_count": 1,
   "id": "c3a3cc2d-304e-4009-bac1-1bee6501f9b1",
   "metadata": {},
   "outputs": [
    {
     "name": "stderr",
     "output_type": "stream",
     "text": [
      "Setting default log level to \"WARN\".\n",
      "To adjust logging level use sc.setLogLevel(newLevel). For SparkR, use setLogLevel(newLevel).\n"
     ]
    },
    {
     "name": "stdout",
     "output_type": "stream",
     "text": [
      "22/11/05 23:31:37 WARN NativeCodeLoader: Unable to load native-hadoop library for your platform... using builtin-java classes where applicable\n"
     ]
    }
   ],
   "source": [
    "from pyspark.sql import SparkSession\n",
    "from pyspark.sql.functions import col\n",
    "\n",
    "spark = (SparkSession.builder\n",
    "    .master('local')\n",
    "    .appName('myAppName')\n",
    "    .getOrCreate())\n",
    "\n",
    "spark.sparkContext.setLogLevel(\"ERROR\")"
   ]
  },
  {
   "cell_type": "markdown",
   "id": "f4be1fb8-3f0c-4b86-afed-fca9d807020f",
   "metadata": {},
   "source": [
    "## Read the parquet file generated with pandas and omdb api"
   ]
  },
  {
   "cell_type": "code",
   "execution_count": 10,
   "id": "3503e70b-00e1-421d-a5c5-810bf45bc9d0",
   "metadata": {},
   "outputs": [
    {
     "name": "stdout",
     "output_type": "stream",
     "text": [
      "243 movies loaded\n"
     ]
    }
   ],
   "source": [
    "df = spark.read.parquet('data/movies.parquet.gzip')\n",
    "print(f'{df.count()} movies loaded')"
   ]
  },
  {
   "cell_type": "markdown",
   "id": "a37c877e-7c6a-45a1-b1fe-1490c7b99f4a",
   "metadata": {},
   "source": [
    "## filter the movies with a rating less than 6.0"
   ]
  },
  {
   "cell_type": "code",
   "execution_count": 11,
   "id": "2e6175c4-275f-4a1c-bb6b-22a3c6542930",
   "metadata": {},
   "outputs": [
    {
     "name": "stdout",
     "output_type": "stream",
     "text": [
      "We have 77 movies with a ranking less than 6.0\n"
     ]
    }
   ],
   "source": [
    "bad_movies = df.filter(col('imdbrating') < 6.0)\n",
    "bad_movies_count = bad_movies.count()\n",
    "print(f'We have {bad_movies_count} movies with a ranking less than 6.0')"
   ]
  },
  {
   "cell_type": "code",
   "execution_count": 12,
   "id": "ee691bcf-8537-4c8b-80f3-6639b863f31f",
   "metadata": {},
   "outputs": [
    {
     "name": "stdout",
     "output_type": "stream",
     "text": [
      "+-----------------------------------+----+---------+-----------+-------+----------------------------------+---------+----------+-----------+\n",
      "|title                              |year|rated    |released   |runtime|genre                             |metascore|imdbrating|boxoffice  |\n",
      "+-----------------------------------+----+---------+-----------+-------+----------------------------------+---------+----------+-----------+\n",
      "|Jeepers Creepers: Reborn           |2022|R        |19 Sep 2022|88 min |Horror, Mystery, Thriller         |N/A      |2.5       |$2,033,057 |\n",
      "|Out of Death                       |2021|R        |16 Jul 2021|96 min |Crime, Thriller                   |N/A      |3.2       |N/A        |\n",
      "|Warlock III: The End of Innocence  |1999|R        |12 Oct 1999|94 min |Fantasy, Horror, Mystery, Thriller|N/A      |3.8       |N/A        |\n",
      "|The Visitor                        |2022|N/A      |07 Oct 2022|89 min |Drama, Horror, Mystery            |N/A      |4.0       |N/A        |\n",
      "|Dark Summer                        |2015|Not Rated|09 Jan 2015|81 min |Horror, Thriller                  |31       |4.2       |N/A        |\n",
      "|Vice                               |2015|R        |16 Jan 2015|96 min |Action, Sci-Fi, Thriller          |17       |4.2       |N/A        |\n",
      "|Grimcutty                          |2022|TV-MA    |10 Oct 2022|101 min|Drama, Horror, Mystery            |N/A      |4.3       |N/A        |\n",
      "|The Ice Age Adventures of Buck Wild|2022|PG       |28 Jan 2022|82 min |Animation, Adventure, Comedy      |30       |4.3       |N/A        |\n",
      "|Debug                              |2014|Not Rated|12 Jun 2015|86 min |Horror, Sci-Fi                    |N/A      |4.3       |N/A        |\n",
      "|Urge                               |2016|R        |03 Jun 2016|89 min |Thriller                          |N/A      |4.4       |N/A        |\n",
      "|Death of Me                        |2020|R        |02 Oct 2020|94 min |Horror, Mystery, Thriller         |31       |4.4       |N/A        |\n",
      "|Kite                               |2014|R        |28 Aug 2014|90 min |Action, Crime, Thriller           |19       |4.4       |N/A        |\n",
      "|Recovery                           |2016|R        |28 Oct 2016|82 min |Horror, Thriller                  |N/A      |4.4       |N/A        |\n",
      "|Divorce Invitation                 |2012|Not Rated|15 Nov 2012|110 min|Comedy, Romance                   |N/A      |4.5       |N/A        |\n",
      "|The Visitors: Bastille Day         |2016|N/A      |06 Apr 2016|110 min|Adventure, Comedy, Fantasy        |N/A      |4.5       |N/A        |\n",
      "|The Darkness                       |2016|PG-13    |13 May 2016|92 min |Horror, Thriller                  |27       |4.5       |$10,753,574|\n",
      "|Nurse                              |2013|R        |24 Oct 2013|84 min |Horror, Thriller                  |29       |4.5       |N/A        |\n",
      "|The Doorman                        |2020|R        |09 Oct 2020|97 min |Action, Drama, Thriller           |41       |4.6       |N/A        |\n",
      "|Outcast                            |2014|Not Rated|03 Apr 2015|99 min |Action, Adventure, Thriller       |33       |4.6       |N/A        |\n",
      "|Robot Overlords                    |2014|PG-13    |03 Jul 2015|90 min |Action, Adventure, Sci-Fi         |47       |4.6       |N/A        |\n",
      "+-----------------------------------+----+---------+-----------+-------+----------------------------------+---------+----------+-----------+\n",
      "only showing top 20 rows\n",
      "\n"
     ]
    }
   ],
   "source": [
    "bad_movies.sort(col('imdbrating').asc()).show(truncate=False)"
   ]
  },
  {
   "cell_type": "code",
   "execution_count": 13,
   "id": "87809e17-5451-480b-ba3c-40de945eae5f",
   "metadata": {},
   "outputs": [
    {
     "name": "stdout",
     "output_type": "stream",
     "text": [
      "We have 4 movies without ranking\n"
     ]
    }
   ],
   "source": [
    "unrated_movies = df.where(col('imdbrating') == 'N/A')\n",
    "print(f'We have {unrated_movies.count()} movies without ranking')"
   ]
  },
  {
   "cell_type": "code",
   "execution_count": 14,
   "id": "aaa366fe-4294-4aa1-b031-56cc1fb658b0",
   "metadata": {},
   "outputs": [
    {
     "name": "stdout",
     "output_type": "stream",
     "text": [
      "+--------------------------+----+-----+-----------+-------+-------------------------+---------+----------+---------+\n",
      "|title                     |year|rated|released   |runtime|genre                    |metascore|imdbrating|boxoffice|\n",
      "+--------------------------+----+-----+-----------+-------+-------------------------+---------+----------+---------+\n",
      "|Hellraiser                |2022|R    |07 Oct 2022|121 min|Horror, Mystery, Thriller|56       |N/A       |N/A      |\n",
      "|The Inhabitant            |2022|N/A  |07 Oct 2022|97 min |Horror, Thriller         |N/A      |N/A       |N/A      |\n",
      "|Old Man                   |2022|N/A  |14 Oct 2022|97 min |Thriller                 |N/A      |N/A       |N/A      |\n",
      "|Padre no hay más que uno 3|2022|N/A  |14 Jul 2022|99 min |Comedy                   |N/A      |N/A       |N/A      |\n",
      "+--------------------------+----+-----+-----------+-------+-------------------------+---------+----------+---------+\n",
      "\n"
     ]
    }
   ],
   "source": [
    "unrated_movies.show(truncate=False)"
   ]
  }
 ],
 "metadata": {
  "kernelspec": {
   "display_name": "Python 3 (ipykernel)",
   "language": "python",
   "name": "python3"
  },
  "language_info": {
   "codemirror_mode": {
    "name": "ipython",
    "version": 3
   },
   "file_extension": ".py",
   "mimetype": "text/x-python",
   "name": "python",
   "nbconvert_exporter": "python",
   "pygments_lexer": "ipython3",
   "version": "3.11.0"
  }
 },
 "nbformat": 4,
 "nbformat_minor": 5
}
