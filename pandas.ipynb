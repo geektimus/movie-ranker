{
 "cells": [
  {
   "cell_type": "code",
   "execution_count": null,
   "id": "44efce43-d09f-43fe-be85-7b8327ad9cb9",
   "metadata": {},
   "outputs": [],
   "source": [
    "import os\n",
    "import pandas as pd\n",
    "from decouple import config\n",
    "from tabulate import tabulate\n",
    "\n",
    "current_path = os.getcwd()\n",
    "parquetfile_location = '%s/data/movies.parquet.gzip' % current_path\n",
    "\n",
    "print(parquetfile_location)"
   ]
  },
  {
   "cell_type": "code",
   "execution_count": null,
   "id": "8251eead-778b-40f8-a764-532a71529f4d",
   "metadata": {},
   "outputs": [],
   "source": [
    "df = pd.read_parquet(parquetfile_location)\n",
    "print('Parquet file loaded from %s' % parquetfile_location)"
   ]
  },
  {
   "cell_type": "code",
   "execution_count": null,
   "id": "b5e4e48c-a66d-422a-9a13-4a6c81409f2a",
   "metadata": {},
   "outputs": [],
   "source": [
    "rated_movies = df.query('imdbrating != \"N/A\"')\n",
    "rated_movies.loc[:, 'imdbrating'] = pd.to_numeric(rated_movies['imdbrating'], downcast='float')\n",
    "\n",
    "filtered_by_rating = rated_movies.query('imdbrating < 6.0')\n",
    "sorted_data = filtered_by_rating.sort_values(by=['imdbrating','boxoffice'], ascending=False)\n"
   ]
  },
  {
   "cell_type": "code",
   "execution_count": null,
   "id": "a5bf4df9-37ce-4844-a529-299f852f5e7c",
   "metadata": {},
   "outputs": [],
   "source": [
    "sorted_data.dtypes\n",
    "\n",
    "#with pd.option_context('display.max_rows', None, 'display.max_columns', None):  # more options can be specified also\n",
    "#    display(sorted_data)"
   ]
  }
 ],
 "metadata": {
  "kernelspec": {
   "display_name": "Python 3.11.0 64-bit ('movie-ranker')",
   "language": "python",
   "name": "python3"
  },
  "language_info": {
   "codemirror_mode": {
    "name": "ipython",
    "version": 3
   },
   "file_extension": ".py",
   "mimetype": "text/x-python",
   "name": "python",
   "nbconvert_exporter": "python",
   "pygments_lexer": "ipython3",
   "version": "3.11.0"
  },
  "vscode": {
   "interpreter": {
    "hash": "abd078ae52b19f4c5f94421bfb3cddd9c943aaab5e50d7ad35dab317c28f703d"
   }
  }
 },
 "nbformat": 4,
 "nbformat_minor": 5
}
