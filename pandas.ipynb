{
 "cells": [
  {
   "cell_type": "markdown",
   "id": "60459f7d-f3ed-498f-904b-67fd4619dfa7",
   "metadata": {},
   "source": [
    "## Basic Imports"
   ]
  },
  {
   "cell_type": "code",
   "execution_count": 1,
   "id": "ebfaa2a5-2a85-42f2-948a-6fad5cf5b982",
   "metadata": {},
   "outputs": [],
   "source": [
    "import os\n",
    "import pandas as pd\n",
    "import numpy as np\n",
    "from decouple import config\n",
    "from tabulate import tabulate"
   ]
  },
  {
   "cell_type": "markdown",
   "id": "bcdc9de2-8d0e-4267-83a2-e9d63c8d3676",
   "metadata": {},
   "source": [
    "## Disable FutureWarning from pandas"
   ]
  },
  {
   "cell_type": "code",
   "execution_count": 2,
   "id": "54e27a1d-69ed-408b-b72a-e68a58227d27",
   "metadata": {},
   "outputs": [],
   "source": [
    "import warnings\n",
    "warnings.simplefilter(action='ignore', category=FutureWarning)"
   ]
  },
  {
   "cell_type": "markdown",
   "id": "a117c3ad-f3f9-46da-9ac6-fce147d45d62",
   "metadata": {},
   "source": [
    "## Load required variables"
   ]
  },
  {
   "cell_type": "code",
   "execution_count": null,
   "id": "44efce43-d09f-43fe-be85-7b8327ad9cb9",
   "metadata": {},
   "outputs": [],
   "source": [
    "current_path = os.getcwd()\n",
    "parquetfile_location = '%s/data/movies.local.parquet.updated.gzip' % current_path\n",
    "print(parquetfile_location)"
   ]
  },
  {
   "cell_type": "markdown",
   "id": "256a2f05-cce9-4e0a-92f2-d1b5e589ee72",
   "metadata": {},
   "source": [
    "## Load Parquet File"
   ]
  },
  {
   "cell_type": "code",
   "execution_count": null,
   "id": "8251eead-778b-40f8-a764-532a71529f4d",
   "metadata": {},
   "outputs": [],
   "source": [
    "df = pd.read_parquet(parquetfile_location)\n",
    "print('Parquet file loaded from %s' % parquetfile_location)"
   ]
  },
  {
   "cell_type": "markdown",
   "id": "584a9787-e0f7-43d9-b9be-d4ec36730e2d",
   "metadata": {},
   "source": [
    "## Get unrated movies from the data"
   ]
  },
  {
   "cell_type": "code",
   "execution_count": 5,
   "id": "9ba6aebb-39b0-4776-9942-d34e0158d2bd",
   "metadata": {},
   "outputs": [],
   "source": [
    "unrated_movies = df.query('imdbrating == \"N/A\"')"
   ]
  },
  {
   "cell_type": "markdown",
   "id": "019a013f-3a44-490d-9740-f23f384e536c",
   "metadata": {},
   "source": [
    "## Get the rated movies and cast the ratings to float"
   ]
  },
  {
   "cell_type": "code",
   "execution_count": 6,
   "id": "8100c9a3-2d68-498b-9fe8-b731cae7237c",
   "metadata": {},
   "outputs": [],
   "source": [
    "rated_movies = df.query('imdbrating != \"N/A\"').copy()\n",
    "ratings = rated_movies['imdbrating'].astype(float)\n",
    "rated_movies.loc[:, 'imdbrating'] = ratings"
   ]
  },
  {
   "cell_type": "markdown",
   "id": "ee6a13c9-a7a2-4a66-97a7-ff53ee0aa62c",
   "metadata": {},
   "source": [
    "## Filter the movies with rating less than 5.5"
   ]
  },
  {
   "cell_type": "code",
   "execution_count": 7,
   "id": "b5e4e48c-a66d-422a-9a13-4a6c81409f2a",
   "metadata": {},
   "outputs": [],
   "source": [
    "filtered_by_rating = rated_movies.query('imdbrating < 5.5')\n",
    "sorted_data = filtered_by_rating.sort_values(by=['imdbrating'], ascending=False)"
   ]
  },
  {
   "cell_type": "markdown",
   "id": "b1fe2077-9461-437c-8d61-c899c4cdf58a",
   "metadata": {},
   "source": [
    "## Transform the size in bytes to size in MB|GB"
   ]
  },
  {
   "cell_type": "code",
   "execution_count": 8,
   "id": "f8892dbd-c2a4-4ba1-987d-1619d82355d5",
   "metadata": {},
   "outputs": [],
   "source": [
    "sorted_data[\"size_in_bytes\"] = pd.to_numeric(sorted_data[\"size_in_bytes\"])\n",
    "sorted_data[\"size_in_mb\"] = (sorted_data[\"size_in_bytes\"] / 1000000).apply(np.ceil)\n",
    "sorted_data[\"size_in_gb\"] = (sorted_data[\"size_in_bytes\"] / 1000000000).apply(np.ceil)"
   ]
  },
  {
   "cell_type": "markdown",
   "id": "8471ebed-2599-4bd2-974c-90dd37254aa4",
   "metadata": {},
   "source": [
    "## Remove the \"size_in_bytes\" column"
   ]
  },
  {
   "cell_type": "code",
   "execution_count": 9,
   "id": "acadbddb-f880-4142-9154-b72c4172b344",
   "metadata": {},
   "outputs": [],
   "source": [
    "sorted_data.drop(\"size_in_bytes\", axis=1, inplace=True)"
   ]
  },
  {
   "cell_type": "markdown",
   "id": "127e9df4-098c-44a1-b983-8d6f5fe16448",
   "metadata": {},
   "source": [
    "## Print the sorted dataframe"
   ]
  },
  {
   "cell_type": "code",
   "execution_count": null,
   "id": "a5bf4df9-37ce-4844-a529-299f852f5e7c",
   "metadata": {},
   "outputs": [],
   "source": [
    "with pd.option_context('display.max_rows', None, 'display.max_columns', None):  # more options can be specified also\n",
    "    display(sorted_data)"
   ]
  },
  {
   "cell_type": "code",
   "execution_count": null,
   "id": "030f6684",
   "metadata": {},
   "outputs": [],
   "source": [
    "# Get the total size_in_gb for all the sorted_data dataframe\n",
    "total_size_gb = sorted_data[\"size_in_gb\"].sum()\n",
    "print(f\"Total size in GB: {total_size_gb}\")\n"
   ]
  },
  {
   "cell_type": "code",
   "execution_count": null,
   "id": "8bc61148",
   "metadata": {},
   "outputs": [],
   "source": [
    "# search df for movies starting with N\n",
    "df[df['title'].str.startswith('N')]\n"
   ]
  }
 ],
 "metadata": {
  "kernelspec": {
   "display_name": ".venv",
   "language": "python",
   "name": "python3"
  },
  "language_info": {
   "codemirror_mode": {
    "name": "ipython",
    "version": 3
   },
   "file_extension": ".py",
   "mimetype": "text/x-python",
   "name": "python",
   "nbconvert_exporter": "python",
   "pygments_lexer": "ipython3",
   "version": "3.13.0"
  }
 },
 "nbformat": 4,
 "nbformat_minor": 5
}
