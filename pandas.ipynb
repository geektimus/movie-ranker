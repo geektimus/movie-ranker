{
 "cells": [
  {
   "cell_type": "code",
   "execution_count": 2,
   "id": "44efce43-d09f-43fe-be85-7b8327ad9cb9",
   "metadata": {},
   "outputs": [
    {
     "name": "stdout",
     "output_type": "stream",
     "text": [
      "/home/geektimus/Projects/personal/movie-ranker/data/movies.parquet.gzip\n"
     ]
    }
   ],
   "source": [
    "import os\n",
    "import pandas as pd\n",
    "from decouple import config\n",
    "from tabulate import tabulate\n",
    "\n",
    "current_path = os.getcwd()\n",
    "parquetfile_location = '%s/data/movies.parquet.gzip' % current_path\n",
    "\n",
    "print(parquetfile_location)"
   ]
  },
  {
   "cell_type": "code",
   "execution_count": 3,
   "id": "8251eead-778b-40f8-a764-532a71529f4d",
   "metadata": {},
   "outputs": [
    {
     "name": "stdout",
     "output_type": "stream",
     "text": [
      "Parquet file loaded from /home/geektimus/Projects/personal/movie-ranker/data/movies.parquet.gzip\n"
     ]
    }
   ],
   "source": [
    "df = pd.read_parquet(parquetfile_location)\n",
    "print('Parquet file loaded from %s' % parquetfile_location)"
   ]
  },
  {
   "cell_type": "code",
   "execution_count": 4,
   "id": "b5e4e48c-a66d-422a-9a13-4a6c81409f2a",
   "metadata": {},
   "outputs": [
    {
     "name": "stderr",
     "output_type": "stream",
     "text": [
      "/tmp/ipykernel_5031/3767366996.py:2: SettingWithCopyWarning: \n",
      "A value is trying to be set on a copy of a slice from a DataFrame.\n",
      "Try using .loc[row_indexer,col_indexer] = value instead\n",
      "\n",
      "See the caveats in the documentation: https://pandas.pydata.org/pandas-docs/stable/user_guide/indexing.html#returning-a-view-versus-a-copy\n",
      "  rated_movies.loc[:, 'imdbrating'] = pd.to_numeric(rated_movies['imdbrating'], downcast='float')\n",
      "/tmp/ipykernel_5031/3767366996.py:2: FutureWarning: In a future version, `df.iloc[:, i] = newvals` will attempt to set the values inplace instead of always setting a new array. To retain the old behavior, use either `df[df.columns[i]] = newvals` or, if columns are non-unique, `df.isetitem(i, newvals)`\n",
      "  rated_movies.loc[:, 'imdbrating'] = pd.to_numeric(rated_movies['imdbrating'], downcast='float')\n"
     ]
    }
   ],
   "source": [
    "rated_movies = df.query('imdbrating != \"N/A\"')\n",
    "rated_movies.loc[:, 'imdbrating'] = pd.to_numeric(rated_movies['imdbrating'], downcast='float')\n",
    "\n",
    "filtered_by_rating = rated_movies.query('imdbrating < 6.0')\n",
    "sorted_data = filtered_by_rating.sort_values(by=['imdbrating','boxoffice'], ascending=False)\n"
   ]
  },
  {
   "cell_type": "code",
   "execution_count": 9,
   "id": "a5bf4df9-37ce-4844-a529-299f852f5e7c",
   "metadata": {},
   "outputs": [
    {
     "data": {
      "text/plain": [
       "title          object\n",
       "year           object\n",
       "rated          object\n",
       "released       object\n",
       "runtime        object\n",
       "genre          object\n",
       "metascore      object\n",
       "imdbrating    float64\n",
       "boxoffice      object\n",
       "dtype: object"
      ]
     },
     "execution_count": 9,
     "metadata": {},
     "output_type": "execute_result"
    }
   ],
   "source": [
    "sorted_data.dtypes\n",
    "\n",
    "#with pd.option_context('display.max_rows', None, 'display.max_columns', None):  # more options can be specified also\n",
    "#    display(sorted_data)"
   ]
  }
 ],
 "metadata": {
  "kernelspec": {
   "display_name": "Python 3 (ipykernel)",
   "language": "python",
   "name": "python3"
  },
  "language_info": {
   "codemirror_mode": {
    "name": "ipython",
    "version": 3
   },
   "file_extension": ".py",
   "mimetype": "text/x-python",
   "name": "python",
   "nbconvert_exporter": "python",
   "pygments_lexer": "ipython3",
   "version": "3.11.0"
  }
 },
 "nbformat": 4,
 "nbformat_minor": 5
}
